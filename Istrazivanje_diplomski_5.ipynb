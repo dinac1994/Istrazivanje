{
  "nbformat": 4,
  "nbformat_minor": 0,
  "metadata": {
    "colab": {
      "provenance": [],
      "collapsed_sections": []
    },
    "kernelspec": {
      "name": "python3",
      "display_name": "Python 3"
    },
    "language_info": {
      "name": "python"
    }
  },
  "cells": [
    {
      "cell_type": "code",
      "execution_count": 32,
      "metadata": {
        "id": "C8BYKhJdkj0L"
      },
      "outputs": [],
      "source": [
        "import pandas as pd\n",
        "import numpy as np\n",
        "import tensorflow as tf\n",
        "import seaborn as sns \n",
        "import matplotlib.pyplot as plt\n",
        "%matplotlib inline \n",
        "sns.set(color_codes=True)"
      ]
    },
    {
      "cell_type": "markdown",
      "source": [
        "Tablica koja prikazuje prosječni score svake osobe za svaku vještinu i koju strategiju je ta osoba odabrala."
      ],
      "metadata": {
        "id": "f6IAylNck_yC"
      }
    },
    {
      "cell_type": "code",
      "source": [
        "df = pd.read_excel(\"SEVER_2.xlsx\")\n",
        "df.iloc[:,0] = df.iloc[:,0]/10\n",
        "df.iloc[:,1] = df.iloc[:,1]/10\n",
        "df.iloc[:,2] = df.iloc[:,2]/10\n",
        "df"
      ],
      "metadata": {
        "colab": {
          "base_uri": "https://localhost:8080/",
          "height": 807
        },
        "id": "5Y_dw16elD8V",
        "outputId": "84a91a61-e308-490a-a468-7046c7a59a44"
      },
      "execution_count": 50,
      "outputs": [
        {
          "output_type": "execute_result",
          "data": {
            "text/plain": [
              "    Vjestina aktivnog slusanja  Vjestina umrezavanja  \\\n",
              "0                          4.6                   4.0   \n",
              "1                          4.8                   4.2   \n",
              "2                          4.8                   4.8   \n",
              "3                          4.0                   5.0   \n",
              "4                          4.0                   4.2   \n",
              "5                          3.4                   4.4   \n",
              "6                          4.4                   4.2   \n",
              "7                          5.0                   4.6   \n",
              "8                          3.6                   3.2   \n",
              "9                          3.8                   4.0   \n",
              "10                         4.0                   4.4   \n",
              "11                         3.6                   4.4   \n",
              "12                         4.4                   5.0   \n",
              "13                         4.8                   4.0   \n",
              "14                         4.4                   4.6   \n",
              "15                         3.6                   3.0   \n",
              "16                         4.4                   4.8   \n",
              "17                         4.0                   4.4   \n",
              "18                         4.0                   3.6   \n",
              "19                         4.6                   3.6   \n",
              "20                         4.4                   5.0   \n",
              "\n",
              "    Vjestina utjecaja na druge  Tvrdo pregovaranje  Pozicijsko pregovaranje  \\\n",
              "0                          3.6                   0                        0   \n",
              "1                          4.4                   0                        1   \n",
              "2                          4.2                   0                        0   \n",
              "3                          4.6                   1                        0   \n",
              "4                          4.4                   0                        0   \n",
              "5                          4.8                   0                        0   \n",
              "6                          4.8                   0                        0   \n",
              "7                          4.2                   0                        0   \n",
              "8                          3.6                   0                        0   \n",
              "9                          4.4                   0                        0   \n",
              "10                         4.8                   0                        0   \n",
              "11                         4.0                   0                        0   \n",
              "12                         4.4                   0                        0   \n",
              "13                         4.0                   0                        0   \n",
              "14                         4.6                   0                        0   \n",
              "15                         3.8                   0                        0   \n",
              "16                         4.4                   0                        0   \n",
              "17                         3.6                   0                        0   \n",
              "18                         4.4                   0                        0   \n",
              "19                         4.8                   0                        0   \n",
              "20                         5.0                   0                        0   \n",
              "\n",
              "    Meko pregovaranje  Fiktivno pregovaranje  Principijelno pregovaranje  \\\n",
              "0                   0                      0                           1   \n",
              "1                   0                      0                           0   \n",
              "2                   0                      0                           1   \n",
              "3                   0                      0                           0   \n",
              "4                   0                      0                           1   \n",
              "5                   0                      0                           1   \n",
              "6                   0                      0                           1   \n",
              "7                   0                      0                           1   \n",
              "8                   0                      0                           1   \n",
              "9                   0                      0                           1   \n",
              "10                  0                      0                           1   \n",
              "11                  0                      0                           1   \n",
              "12                  0                      0                           1   \n",
              "13                  0                      0                           1   \n",
              "14                  0                      0                           1   \n",
              "15                  0                      0                           1   \n",
              "16                  0                      0                           1   \n",
              "17                  0                      0                           1   \n",
              "18                  0                      0                           1   \n",
              "19                  0                      0                           1   \n",
              "20                  0                      0                           1   \n",
              "\n",
              "    Spol Godiste  \n",
              "0      1       V  \n",
              "1      1       M  \n",
              "2      1       M  \n",
              "3      1       M  \n",
              "4      1       M  \n",
              "5      0       M  \n",
              "6      1       M  \n",
              "7      0       V  \n",
              "8      1       V  \n",
              "9      0       V  \n",
              "10     0       V  \n",
              "11     1       V  \n",
              "12     0       M  \n",
              "13     1       V  \n",
              "14     0       V  \n",
              "15     0       V  \n",
              "16     1       V  \n",
              "17     1       V  \n",
              "18     0       V  \n",
              "19     0       V  \n",
              "20     1       V  "
            ],
            "text/html": [
              "\n",
              "  <div id=\"df-ab3dcfb8-dd42-4efc-b885-471b65560662\">\n",
              "    <div class=\"colab-df-container\">\n",
              "      <div>\n",
              "<style scoped>\n",
              "    .dataframe tbody tr th:only-of-type {\n",
              "        vertical-align: middle;\n",
              "    }\n",
              "\n",
              "    .dataframe tbody tr th {\n",
              "        vertical-align: top;\n",
              "    }\n",
              "\n",
              "    .dataframe thead th {\n",
              "        text-align: right;\n",
              "    }\n",
              "</style>\n",
              "<table border=\"1\" class=\"dataframe\">\n",
              "  <thead>\n",
              "    <tr style=\"text-align: right;\">\n",
              "      <th></th>\n",
              "      <th>Vjestina aktivnog slusanja</th>\n",
              "      <th>Vjestina umrezavanja</th>\n",
              "      <th>Vjestina utjecaja na druge</th>\n",
              "      <th>Tvrdo pregovaranje</th>\n",
              "      <th>Pozicijsko pregovaranje</th>\n",
              "      <th>Meko pregovaranje</th>\n",
              "      <th>Fiktivno pregovaranje</th>\n",
              "      <th>Principijelno pregovaranje</th>\n",
              "      <th>Spol</th>\n",
              "      <th>Godiste</th>\n",
              "    </tr>\n",
              "  </thead>\n",
              "  <tbody>\n",
              "    <tr>\n",
              "      <th>0</th>\n",
              "      <td>4.6</td>\n",
              "      <td>4.0</td>\n",
              "      <td>3.6</td>\n",
              "      <td>0</td>\n",
              "      <td>0</td>\n",
              "      <td>0</td>\n",
              "      <td>0</td>\n",
              "      <td>1</td>\n",
              "      <td>1</td>\n",
              "      <td>V</td>\n",
              "    </tr>\n",
              "    <tr>\n",
              "      <th>1</th>\n",
              "      <td>4.8</td>\n",
              "      <td>4.2</td>\n",
              "      <td>4.4</td>\n",
              "      <td>0</td>\n",
              "      <td>1</td>\n",
              "      <td>0</td>\n",
              "      <td>0</td>\n",
              "      <td>0</td>\n",
              "      <td>1</td>\n",
              "      <td>M</td>\n",
              "    </tr>\n",
              "    <tr>\n",
              "      <th>2</th>\n",
              "      <td>4.8</td>\n",
              "      <td>4.8</td>\n",
              "      <td>4.2</td>\n",
              "      <td>0</td>\n",
              "      <td>0</td>\n",
              "      <td>0</td>\n",
              "      <td>0</td>\n",
              "      <td>1</td>\n",
              "      <td>1</td>\n",
              "      <td>M</td>\n",
              "    </tr>\n",
              "    <tr>\n",
              "      <th>3</th>\n",
              "      <td>4.0</td>\n",
              "      <td>5.0</td>\n",
              "      <td>4.6</td>\n",
              "      <td>1</td>\n",
              "      <td>0</td>\n",
              "      <td>0</td>\n",
              "      <td>0</td>\n",
              "      <td>0</td>\n",
              "      <td>1</td>\n",
              "      <td>M</td>\n",
              "    </tr>\n",
              "    <tr>\n",
              "      <th>4</th>\n",
              "      <td>4.0</td>\n",
              "      <td>4.2</td>\n",
              "      <td>4.4</td>\n",
              "      <td>0</td>\n",
              "      <td>0</td>\n",
              "      <td>0</td>\n",
              "      <td>0</td>\n",
              "      <td>1</td>\n",
              "      <td>1</td>\n",
              "      <td>M</td>\n",
              "    </tr>\n",
              "    <tr>\n",
              "      <th>5</th>\n",
              "      <td>3.4</td>\n",
              "      <td>4.4</td>\n",
              "      <td>4.8</td>\n",
              "      <td>0</td>\n",
              "      <td>0</td>\n",
              "      <td>0</td>\n",
              "      <td>0</td>\n",
              "      <td>1</td>\n",
              "      <td>0</td>\n",
              "      <td>M</td>\n",
              "    </tr>\n",
              "    <tr>\n",
              "      <th>6</th>\n",
              "      <td>4.4</td>\n",
              "      <td>4.2</td>\n",
              "      <td>4.8</td>\n",
              "      <td>0</td>\n",
              "      <td>0</td>\n",
              "      <td>0</td>\n",
              "      <td>0</td>\n",
              "      <td>1</td>\n",
              "      <td>1</td>\n",
              "      <td>M</td>\n",
              "    </tr>\n",
              "    <tr>\n",
              "      <th>7</th>\n",
              "      <td>5.0</td>\n",
              "      <td>4.6</td>\n",
              "      <td>4.2</td>\n",
              "      <td>0</td>\n",
              "      <td>0</td>\n",
              "      <td>0</td>\n",
              "      <td>0</td>\n",
              "      <td>1</td>\n",
              "      <td>0</td>\n",
              "      <td>V</td>\n",
              "    </tr>\n",
              "    <tr>\n",
              "      <th>8</th>\n",
              "      <td>3.6</td>\n",
              "      <td>3.2</td>\n",
              "      <td>3.6</td>\n",
              "      <td>0</td>\n",
              "      <td>0</td>\n",
              "      <td>0</td>\n",
              "      <td>0</td>\n",
              "      <td>1</td>\n",
              "      <td>1</td>\n",
              "      <td>V</td>\n",
              "    </tr>\n",
              "    <tr>\n",
              "      <th>9</th>\n",
              "      <td>3.8</td>\n",
              "      <td>4.0</td>\n",
              "      <td>4.4</td>\n",
              "      <td>0</td>\n",
              "      <td>0</td>\n",
              "      <td>0</td>\n",
              "      <td>0</td>\n",
              "      <td>1</td>\n",
              "      <td>0</td>\n",
              "      <td>V</td>\n",
              "    </tr>\n",
              "    <tr>\n",
              "      <th>10</th>\n",
              "      <td>4.0</td>\n",
              "      <td>4.4</td>\n",
              "      <td>4.8</td>\n",
              "      <td>0</td>\n",
              "      <td>0</td>\n",
              "      <td>0</td>\n",
              "      <td>0</td>\n",
              "      <td>1</td>\n",
              "      <td>0</td>\n",
              "      <td>V</td>\n",
              "    </tr>\n",
              "    <tr>\n",
              "      <th>11</th>\n",
              "      <td>3.6</td>\n",
              "      <td>4.4</td>\n",
              "      <td>4.0</td>\n",
              "      <td>0</td>\n",
              "      <td>0</td>\n",
              "      <td>0</td>\n",
              "      <td>0</td>\n",
              "      <td>1</td>\n",
              "      <td>1</td>\n",
              "      <td>V</td>\n",
              "    </tr>\n",
              "    <tr>\n",
              "      <th>12</th>\n",
              "      <td>4.4</td>\n",
              "      <td>5.0</td>\n",
              "      <td>4.4</td>\n",
              "      <td>0</td>\n",
              "      <td>0</td>\n",
              "      <td>0</td>\n",
              "      <td>0</td>\n",
              "      <td>1</td>\n",
              "      <td>0</td>\n",
              "      <td>M</td>\n",
              "    </tr>\n",
              "    <tr>\n",
              "      <th>13</th>\n",
              "      <td>4.8</td>\n",
              "      <td>4.0</td>\n",
              "      <td>4.0</td>\n",
              "      <td>0</td>\n",
              "      <td>0</td>\n",
              "      <td>0</td>\n",
              "      <td>0</td>\n",
              "      <td>1</td>\n",
              "      <td>1</td>\n",
              "      <td>V</td>\n",
              "    </tr>\n",
              "    <tr>\n",
              "      <th>14</th>\n",
              "      <td>4.4</td>\n",
              "      <td>4.6</td>\n",
              "      <td>4.6</td>\n",
              "      <td>0</td>\n",
              "      <td>0</td>\n",
              "      <td>0</td>\n",
              "      <td>0</td>\n",
              "      <td>1</td>\n",
              "      <td>0</td>\n",
              "      <td>V</td>\n",
              "    </tr>\n",
              "    <tr>\n",
              "      <th>15</th>\n",
              "      <td>3.6</td>\n",
              "      <td>3.0</td>\n",
              "      <td>3.8</td>\n",
              "      <td>0</td>\n",
              "      <td>0</td>\n",
              "      <td>0</td>\n",
              "      <td>0</td>\n",
              "      <td>1</td>\n",
              "      <td>0</td>\n",
              "      <td>V</td>\n",
              "    </tr>\n",
              "    <tr>\n",
              "      <th>16</th>\n",
              "      <td>4.4</td>\n",
              "      <td>4.8</td>\n",
              "      <td>4.4</td>\n",
              "      <td>0</td>\n",
              "      <td>0</td>\n",
              "      <td>0</td>\n",
              "      <td>0</td>\n",
              "      <td>1</td>\n",
              "      <td>1</td>\n",
              "      <td>V</td>\n",
              "    </tr>\n",
              "    <tr>\n",
              "      <th>17</th>\n",
              "      <td>4.0</td>\n",
              "      <td>4.4</td>\n",
              "      <td>3.6</td>\n",
              "      <td>0</td>\n",
              "      <td>0</td>\n",
              "      <td>0</td>\n",
              "      <td>0</td>\n",
              "      <td>1</td>\n",
              "      <td>1</td>\n",
              "      <td>V</td>\n",
              "    </tr>\n",
              "    <tr>\n",
              "      <th>18</th>\n",
              "      <td>4.0</td>\n",
              "      <td>3.6</td>\n",
              "      <td>4.4</td>\n",
              "      <td>0</td>\n",
              "      <td>0</td>\n",
              "      <td>0</td>\n",
              "      <td>0</td>\n",
              "      <td>1</td>\n",
              "      <td>0</td>\n",
              "      <td>V</td>\n",
              "    </tr>\n",
              "    <tr>\n",
              "      <th>19</th>\n",
              "      <td>4.6</td>\n",
              "      <td>3.6</td>\n",
              "      <td>4.8</td>\n",
              "      <td>0</td>\n",
              "      <td>0</td>\n",
              "      <td>0</td>\n",
              "      <td>0</td>\n",
              "      <td>1</td>\n",
              "      <td>0</td>\n",
              "      <td>V</td>\n",
              "    </tr>\n",
              "    <tr>\n",
              "      <th>20</th>\n",
              "      <td>4.4</td>\n",
              "      <td>5.0</td>\n",
              "      <td>5.0</td>\n",
              "      <td>0</td>\n",
              "      <td>0</td>\n",
              "      <td>0</td>\n",
              "      <td>0</td>\n",
              "      <td>1</td>\n",
              "      <td>1</td>\n",
              "      <td>V</td>\n",
              "    </tr>\n",
              "  </tbody>\n",
              "</table>\n",
              "</div>\n",
              "      <button class=\"colab-df-convert\" onclick=\"convertToInteractive('df-ab3dcfb8-dd42-4efc-b885-471b65560662')\"\n",
              "              title=\"Convert this dataframe to an interactive table.\"\n",
              "              style=\"display:none;\">\n",
              "        \n",
              "  <svg xmlns=\"http://www.w3.org/2000/svg\" height=\"24px\"viewBox=\"0 0 24 24\"\n",
              "       width=\"24px\">\n",
              "    <path d=\"M0 0h24v24H0V0z\" fill=\"none\"/>\n",
              "    <path d=\"M18.56 5.44l.94 2.06.94-2.06 2.06-.94-2.06-.94-.94-2.06-.94 2.06-2.06.94zm-11 1L8.5 8.5l.94-2.06 2.06-.94-2.06-.94L8.5 2.5l-.94 2.06-2.06.94zm10 10l.94 2.06.94-2.06 2.06-.94-2.06-.94-.94-2.06-.94 2.06-2.06.94z\"/><path d=\"M17.41 7.96l-1.37-1.37c-.4-.4-.92-.59-1.43-.59-.52 0-1.04.2-1.43.59L10.3 9.45l-7.72 7.72c-.78.78-.78 2.05 0 2.83L4 21.41c.39.39.9.59 1.41.59.51 0 1.02-.2 1.41-.59l7.78-7.78 2.81-2.81c.8-.78.8-2.07 0-2.86zM5.41 20L4 18.59l7.72-7.72 1.47 1.35L5.41 20z\"/>\n",
              "  </svg>\n",
              "      </button>\n",
              "      \n",
              "  <style>\n",
              "    .colab-df-container {\n",
              "      display:flex;\n",
              "      flex-wrap:wrap;\n",
              "      gap: 12px;\n",
              "    }\n",
              "\n",
              "    .colab-df-convert {\n",
              "      background-color: #E8F0FE;\n",
              "      border: none;\n",
              "      border-radius: 50%;\n",
              "      cursor: pointer;\n",
              "      display: none;\n",
              "      fill: #1967D2;\n",
              "      height: 32px;\n",
              "      padding: 0 0 0 0;\n",
              "      width: 32px;\n",
              "    }\n",
              "\n",
              "    .colab-df-convert:hover {\n",
              "      background-color: #E2EBFA;\n",
              "      box-shadow: 0px 1px 2px rgba(60, 64, 67, 0.3), 0px 1px 3px 1px rgba(60, 64, 67, 0.15);\n",
              "      fill: #174EA6;\n",
              "    }\n",
              "\n",
              "    [theme=dark] .colab-df-convert {\n",
              "      background-color: #3B4455;\n",
              "      fill: #D2E3FC;\n",
              "    }\n",
              "\n",
              "    [theme=dark] .colab-df-convert:hover {\n",
              "      background-color: #434B5C;\n",
              "      box-shadow: 0px 1px 3px 1px rgba(0, 0, 0, 0.15);\n",
              "      filter: drop-shadow(0px 1px 2px rgba(0, 0, 0, 0.3));\n",
              "      fill: #FFFFFF;\n",
              "    }\n",
              "  </style>\n",
              "\n",
              "      <script>\n",
              "        const buttonEl =\n",
              "          document.querySelector('#df-ab3dcfb8-dd42-4efc-b885-471b65560662 button.colab-df-convert');\n",
              "        buttonEl.style.display =\n",
              "          google.colab.kernel.accessAllowed ? 'block' : 'none';\n",
              "\n",
              "        async function convertToInteractive(key) {\n",
              "          const element = document.querySelector('#df-ab3dcfb8-dd42-4efc-b885-471b65560662');\n",
              "          const dataTable =\n",
              "            await google.colab.kernel.invokeFunction('convertToInteractive',\n",
              "                                                     [key], {});\n",
              "          if (!dataTable) return;\n",
              "\n",
              "          const docLinkHtml = 'Like what you see? Visit the ' +\n",
              "            '<a target=\"_blank\" href=https://colab.research.google.com/notebooks/data_table.ipynb>data table notebook</a>'\n",
              "            + ' to learn more about interactive tables.';\n",
              "          element.innerHTML = '';\n",
              "          dataTable['output_type'] = 'display_data';\n",
              "          await google.colab.output.renderOutput(dataTable, element);\n",
              "          const docLink = document.createElement('div');\n",
              "          docLink.innerHTML = docLinkHtml;\n",
              "          element.appendChild(docLink);\n",
              "        }\n",
              "      </script>\n",
              "    </div>\n",
              "  </div>\n",
              "  "
            ]
          },
          "metadata": {},
          "execution_count": 50
        }
      ]
    },
    {
      "cell_type": "code",
      "source": [
        "# Create an empty list\n",
        "filter_arr = []\n",
        "# go through each element in arr\n",
        "for i in range(0, 21):\n",
        "  if 'M' == df.iloc[i,9]:\n",
        "    filter_arr.append(True)\n",
        "  else:\n",
        "    filter_arr.append(False)"
      ],
      "metadata": {
        "id": "i929J05bMWD3"
      },
      "execution_count": 52,
      "outputs": []
    },
    {
      "cell_type": "code",
      "source": [
        "vas_mladji = df.iloc[:,0][filter_arr].to_numpy()"
      ],
      "metadata": {
        "id": "eP3LfL97O3MZ"
      },
      "execution_count": 54,
      "outputs": []
    },
    {
      "cell_type": "code",
      "source": [
        "vas_mladji"
      ],
      "metadata": {
        "colab": {
          "base_uri": "https://localhost:8080/"
        },
        "id": "foLCWuGXTig7",
        "outputId": "95dfd752-3efa-4d12-fbc1-fdedb3c79b9d"
      },
      "execution_count": 55,
      "outputs": [
        {
          "output_type": "execute_result",
          "data": {
            "text/plain": [
              "array([4.8, 4.8, 4. , 4. , 3.4, 4.4, 4.4])"
            ]
          },
          "metadata": {},
          "execution_count": 55
        }
      ]
    },
    {
      "cell_type": "code",
      "source": [
        "filter_arr_1 = np.invert(filter_arr)"
      ],
      "metadata": {
        "id": "RSqwQv0HQ_WA"
      },
      "execution_count": 56,
      "outputs": []
    },
    {
      "cell_type": "code",
      "source": [
        "vas_stariji = df.iloc[:,0][filter_arr_1].to_numpy()"
      ],
      "metadata": {
        "id": "wejwOtxMPIyJ"
      },
      "execution_count": 58,
      "outputs": []
    },
    {
      "cell_type": "code",
      "source": [
        "np.mean(vas_mladji)"
      ],
      "metadata": {
        "colab": {
          "base_uri": "https://localhost:8080/"
        },
        "id": "cfJ5W5C2SVa6",
        "outputId": "884fe0e6-4415-4fe1-e685-c5781c61c566"
      },
      "execution_count": 59,
      "outputs": [
        {
          "output_type": "execute_result",
          "data": {
            "text/plain": [
              "4.257142857142857"
            ]
          },
          "metadata": {},
          "execution_count": 59
        }
      ]
    },
    {
      "cell_type": "markdown",
      "source": [
        "Prosjek za vještinu aktivnog slušanja za osobe mladje od 35 je 4.257..."
      ],
      "metadata": {
        "id": "FyCgRXW9TIuV"
      }
    },
    {
      "cell_type": "code",
      "source": [
        "np.mean(vas_stariji)"
      ],
      "metadata": {
        "colab": {
          "base_uri": "https://localhost:8080/"
        },
        "id": "2uhUCgc7TUuC",
        "outputId": "69d3d5c7-b09f-4a2c-8e3e-9a9407c5541c"
      },
      "execution_count": 60,
      "outputs": [
        {
          "output_type": "execute_result",
          "data": {
            "text/plain": [
              "4.2"
            ]
          },
          "metadata": {},
          "execution_count": 60
        }
      ]
    },
    {
      "cell_type": "markdown",
      "source": [
        "Prosjek za vještinu aktivnog slušanja za osobe koje su starije od 45 je 4.2. \n",
        "\n",
        "Mladji u prosjeku imaju malo bolju vjestinu aktivnog slusanja."
      ],
      "metadata": {
        "id": "-9F8bE0RTZ8B"
      }
    },
    {
      "cell_type": "code",
      "source": [
        "vu_mladji = df.iloc[:,1][filter_arr].to_numpy()"
      ],
      "metadata": {
        "id": "fDlju4tsT-dO"
      },
      "execution_count": 61,
      "outputs": []
    },
    {
      "cell_type": "code",
      "source": [
        "vu_stariji = df.iloc[:,1][filter_arr_1].to_numpy()"
      ],
      "metadata": {
        "id": "gorYfG9xT70R"
      },
      "execution_count": 62,
      "outputs": []
    },
    {
      "cell_type": "code",
      "source": [
        "np.mean(vu_mladji)"
      ],
      "metadata": {
        "colab": {
          "base_uri": "https://localhost:8080/"
        },
        "id": "tbsx9Qm9T73I",
        "outputId": "64765050-87be-431e-a588-145d7fcb942b"
      },
      "execution_count": 63,
      "outputs": [
        {
          "output_type": "execute_result",
          "data": {
            "text/plain": [
              "4.542857142857143"
            ]
          },
          "metadata": {},
          "execution_count": 63
        }
      ]
    },
    {
      "cell_type": "markdown",
      "source": [
        "Prosjek za vjestinu umrezavanja za osobe mladje od 35 je 4.542757.."
      ],
      "metadata": {
        "id": "h6WALWUmfTxv"
      }
    },
    {
      "cell_type": "code",
      "source": [
        "np.mean(vu_stariji)"
      ],
      "metadata": {
        "colab": {
          "base_uri": "https://localhost:8080/"
        },
        "id": "Z0H3VBz6fT8q",
        "outputId": "5351bf65-aea2-458e-8043-093d0c37c1d1"
      },
      "execution_count": 64,
      "outputs": [
        {
          "output_type": "execute_result",
          "data": {
            "text/plain": [
              "4.114285714285715"
            ]
          },
          "metadata": {},
          "execution_count": 64
        }
      ]
    },
    {
      "cell_type": "markdown",
      "source": [
        "Prosjek za vjestinu umrezavanja za osobe starije od 45 je 4.114....\n",
        "\n",
        "Dakle, mladji imaju bolju vjestinu umrezavanja."
      ],
      "metadata": {
        "id": "JAgsNNsJfUFb"
      }
    },
    {
      "cell_type": "code",
      "source": [
        "vud_mladji = df.iloc[:,2][filter_arr].to_numpy()\n",
        "vud_stariji = df.iloc[:,2][filter_arr_1].to_numpy()"
      ],
      "metadata": {
        "id": "EtEsisr_f4Zt"
      },
      "execution_count": 67,
      "outputs": []
    },
    {
      "cell_type": "code",
      "source": [
        "np.mean(vud_mladji)"
      ],
      "metadata": {
        "colab": {
          "base_uri": "https://localhost:8080/"
        },
        "id": "-ioLVYozf4cs",
        "outputId": "847b5560-f675-42d0-e6eb-b7cf40023231"
      },
      "execution_count": 68,
      "outputs": [
        {
          "output_type": "execute_result",
          "data": {
            "text/plain": [
              "4.514285714285714"
            ]
          },
          "metadata": {},
          "execution_count": 68
        }
      ]
    },
    {
      "cell_type": "markdown",
      "source": [
        "Prosjek za vjestinu utjecaja na druge za osobe mladje od 35 je 4.5142757..."
      ],
      "metadata": {
        "id": "CEF_BdaUgEe0"
      }
    },
    {
      "cell_type": "code",
      "source": [
        "np.mean(vud_stariji)"
      ],
      "metadata": {
        "colab": {
          "base_uri": "https://localhost:8080/"
        },
        "id": "_5l1B80zMQ9s",
        "outputId": "aea80a04-7179-48e1-8b98-21675691f0db"
      },
      "execution_count": 69,
      "outputs": [
        {
          "output_type": "execute_result",
          "data": {
            "text/plain": [
              "4.228571428571429"
            ]
          },
          "metadata": {},
          "execution_count": 69
        }
      ]
    },
    {
      "cell_type": "markdown",
      "source": [
        "Prosjek za vjestinu utjecaja na druge za osobe starije od 45 je 4.22757...\n",
        "\n",
        "Mladji imaju bolje razvijenu vjestinu utjecaja na druge osobe."
      ],
      "metadata": {
        "id": "joqx0LmZgOT1"
      }
    },
    {
      "cell_type": "markdown",
      "source": [
        "## Whitney Mann U Test"
      ],
      "metadata": {
        "id": "9-D1USq2hql4"
      }
    },
    {
      "cell_type": "markdown",
      "source": [
        "Whitney Mann U test ima nul-hipotezu H0: distribucija jedne populacije je jednaka distribuciji druge populacije.\n",
        "\n",
        "Prvo ćemo usporediti distribuciju vjestine aktivnog slusanja izmedju mladih i starijih."
      ],
      "metadata": {
        "id": "u4zIHc7-g-WL"
      }
    },
    {
      "cell_type": "code",
      "source": [
        "import scipy\n",
        "scipy.stats.mannwhitneyu(vas_mladji, vas_stariji)"
      ],
      "metadata": {
        "colab": {
          "base_uri": "https://localhost:8080/"
        },
        "id": "eDQDthNChuh1",
        "outputId": "bc512f80-3f9d-455a-91cd-a7a272f1d37a"
      },
      "execution_count": 70,
      "outputs": [
        {
          "output_type": "execute_result",
          "data": {
            "text/plain": [
              "MannwhitneyuResult(statistic=53.0, pvalue=0.7907225601805892)"
            ]
          },
          "metadata": {},
          "execution_count": 70
        }
      ]
    },
    {
      "cell_type": "markdown",
      "source": [
        "Jako velika p-vrijednost (cca 79%), dakle ne odbacujemo H0 hipotezu, odnosno ne odbacujemo hipotezu koja kaze da su distribucije tih dviju populacija jednake.\n",
        "\n",
        "Odnosno, ne odbacujemo hipotezu koja kaze da su vjestine aktivnog slusanja kod mladjih jednake kao i kod muskaraca."
      ],
      "metadata": {
        "id": "q0BOKLwAiJYO"
      }
    },
    {
      "cell_type": "markdown",
      "source": [
        "Sada na isti nacin ispitamo za vjestinu umrezavanja"
      ],
      "metadata": {
        "id": "RqNJjvv2ieJH"
      }
    },
    {
      "cell_type": "markdown",
      "source": [
        "H0: vjestine umrezavanja za mladje osobe imaju jednaku distribuciju kao i vjestine umrezavanja starijih osoba"
      ],
      "metadata": {
        "id": "yp7r0u6yivP4"
      }
    },
    {
      "cell_type": "code",
      "source": [
        "import scipy\n",
        "scipy.stats.mannwhitneyu(vu_mladji, vu_stariji)"
      ],
      "metadata": {
        "colab": {
          "base_uri": "https://localhost:8080/"
        },
        "id": "YsHawHVriUQE",
        "outputId": "a61a8d05-b08c-43b6-8bcb-17b0fc01eccc"
      },
      "execution_count": 72,
      "outputs": [
        {
          "output_type": "execute_result",
          "data": {
            "text/plain": [
              "MannwhitneyuResult(statistic=69.0, pvalue=0.14244517571439017)"
            ]
          },
          "metadata": {},
          "execution_count": 72
        }
      ]
    },
    {
      "cell_type": "markdown",
      "source": [
        "p-vrijednost je 14.2445%, dakle ne odbacujemo H0 hipotezu."
      ],
      "metadata": {
        "id": "VtDpkmRHiU_w"
      }
    },
    {
      "cell_type": "markdown",
      "source": [
        "I na isti nacin ispitamo i za trecu vjestinu."
      ],
      "metadata": {
        "id": "xnO4CGwni9ue"
      }
    },
    {
      "cell_type": "code",
      "source": [
        "import scipy\n",
        "scipy.stats.mannwhitneyu(vud_mladji, vud_stariji)"
      ],
      "metadata": {
        "colab": {
          "base_uri": "https://localhost:8080/"
        },
        "id": "9M-mAcq0iUVB",
        "outputId": "4148eeec-5a8c-4555-ac90-eee8a667109f"
      },
      "execution_count": 73,
      "outputs": [
        {
          "output_type": "execute_result",
          "data": {
            "text/plain": [
              "MannwhitneyuResult(statistic=66.5, pvalue=0.19696367173141816)"
            ]
          },
          "metadata": {},
          "execution_count": 73
        }
      ]
    },
    {
      "cell_type": "markdown",
      "source": [
        "P-vrijednost je 19.69636717..%, dakle ne odbacujemo H0."
      ],
      "metadata": {
        "id": "d4uqhZ8kjCOG"
      }
    }
  ]
}