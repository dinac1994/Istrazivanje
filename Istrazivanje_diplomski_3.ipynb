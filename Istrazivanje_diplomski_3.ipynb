{
  "nbformat": 4,
  "nbformat_minor": 0,
  "metadata": {
    "colab": {
      "provenance": [],
      "collapsed_sections": []
    },
    "kernelspec": {
      "name": "python3",
      "display_name": "Python 3"
    },
    "language_info": {
      "name": "python"
    }
  },
  "cells": [
    {
      "cell_type": "code",
      "execution_count": 1,
      "metadata": {
        "id": "C8BYKhJdkj0L"
      },
      "outputs": [],
      "source": [
        "import pandas as pd\n",
        "import numpy as np\n",
        "import tensorflow as tf\n",
        "import seaborn as sns \n",
        "import matplotlib.pyplot as plt\n",
        "%matplotlib inline \n",
        "sns.set(color_codes=True)"
      ]
    },
    {
      "cell_type": "markdown",
      "source": [
        "Tablica koja prikazuje prosječni score svake osobe za svaku vještinu i koju strategiju je ta osoba odabrala."
      ],
      "metadata": {
        "id": "f6IAylNck_yC"
      }
    },
    {
      "cell_type": "code",
      "source": [
        "df = pd.read_excel(\"SEVER_2.xlsx\")\n",
        "df.iloc[:,0] = df.iloc[:,0]/10\n",
        "df.iloc[:,1] = df.iloc[:,1]/10\n",
        "df.iloc[:,2] = df.iloc[:,2]/10\n",
        "df.head(5)"
      ],
      "metadata": {
        "colab": {
          "base_uri": "https://localhost:8080/",
          "height": 305
        },
        "id": "5Y_dw16elD8V",
        "outputId": "ff06acae-f25e-46ba-a4b3-5ff90460183d"
      },
      "execution_count": 2,
      "outputs": [
        {
          "output_type": "execute_result",
          "data": {
            "text/plain": [
              "   Vjestina aktivnog slusanja  Vjestina umrezavanja  \\\n",
              "0                         4.6                   4.0   \n",
              "1                         4.2                   3.6   \n",
              "2                         4.8                   4.2   \n",
              "3                         4.8                   4.8   \n",
              "4                         4.0                   5.0   \n",
              "\n",
              "   Vjestina utjecaja na druge  Tvrdo pregovaranje  Pozicijsko pregovaranje  \\\n",
              "0                         3.6                   0                        0   \n",
              "1                         5.0                   0                        0   \n",
              "2                         4.4                   0                        1   \n",
              "3                         4.2                   0                        0   \n",
              "4                         4.6                   1                        0   \n",
              "\n",
              "   Meko pregovaranje  Fiktivno pregovaranje  Principijelno pregovaranje  \n",
              "0                  0                      0                           1  \n",
              "1                  0                      0                           1  \n",
              "2                  0                      0                           0  \n",
              "3                  0                      0                           1  \n",
              "4                  0                      0                           0  "
            ],
            "text/html": [
              "\n",
              "  <div id=\"df-26c641d4-881b-4c5f-ae1c-5320572ea9b4\">\n",
              "    <div class=\"colab-df-container\">\n",
              "      <div>\n",
              "<style scoped>\n",
              "    .dataframe tbody tr th:only-of-type {\n",
              "        vertical-align: middle;\n",
              "    }\n",
              "\n",
              "    .dataframe tbody tr th {\n",
              "        vertical-align: top;\n",
              "    }\n",
              "\n",
              "    .dataframe thead th {\n",
              "        text-align: right;\n",
              "    }\n",
              "</style>\n",
              "<table border=\"1\" class=\"dataframe\">\n",
              "  <thead>\n",
              "    <tr style=\"text-align: right;\">\n",
              "      <th></th>\n",
              "      <th>Vjestina aktivnog slusanja</th>\n",
              "      <th>Vjestina umrezavanja</th>\n",
              "      <th>Vjestina utjecaja na druge</th>\n",
              "      <th>Tvrdo pregovaranje</th>\n",
              "      <th>Pozicijsko pregovaranje</th>\n",
              "      <th>Meko pregovaranje</th>\n",
              "      <th>Fiktivno pregovaranje</th>\n",
              "      <th>Principijelno pregovaranje</th>\n",
              "    </tr>\n",
              "  </thead>\n",
              "  <tbody>\n",
              "    <tr>\n",
              "      <th>0</th>\n",
              "      <td>4.6</td>\n",
              "      <td>4.0</td>\n",
              "      <td>3.6</td>\n",
              "      <td>0</td>\n",
              "      <td>0</td>\n",
              "      <td>0</td>\n",
              "      <td>0</td>\n",
              "      <td>1</td>\n",
              "    </tr>\n",
              "    <tr>\n",
              "      <th>1</th>\n",
              "      <td>4.2</td>\n",
              "      <td>3.6</td>\n",
              "      <td>5.0</td>\n",
              "      <td>0</td>\n",
              "      <td>0</td>\n",
              "      <td>0</td>\n",
              "      <td>0</td>\n",
              "      <td>1</td>\n",
              "    </tr>\n",
              "    <tr>\n",
              "      <th>2</th>\n",
              "      <td>4.8</td>\n",
              "      <td>4.2</td>\n",
              "      <td>4.4</td>\n",
              "      <td>0</td>\n",
              "      <td>1</td>\n",
              "      <td>0</td>\n",
              "      <td>0</td>\n",
              "      <td>0</td>\n",
              "    </tr>\n",
              "    <tr>\n",
              "      <th>3</th>\n",
              "      <td>4.8</td>\n",
              "      <td>4.8</td>\n",
              "      <td>4.2</td>\n",
              "      <td>0</td>\n",
              "      <td>0</td>\n",
              "      <td>0</td>\n",
              "      <td>0</td>\n",
              "      <td>1</td>\n",
              "    </tr>\n",
              "    <tr>\n",
              "      <th>4</th>\n",
              "      <td>4.0</td>\n",
              "      <td>5.0</td>\n",
              "      <td>4.6</td>\n",
              "      <td>1</td>\n",
              "      <td>0</td>\n",
              "      <td>0</td>\n",
              "      <td>0</td>\n",
              "      <td>0</td>\n",
              "    </tr>\n",
              "  </tbody>\n",
              "</table>\n",
              "</div>\n",
              "      <button class=\"colab-df-convert\" onclick=\"convertToInteractive('df-26c641d4-881b-4c5f-ae1c-5320572ea9b4')\"\n",
              "              title=\"Convert this dataframe to an interactive table.\"\n",
              "              style=\"display:none;\">\n",
              "        \n",
              "  <svg xmlns=\"http://www.w3.org/2000/svg\" height=\"24px\"viewBox=\"0 0 24 24\"\n",
              "       width=\"24px\">\n",
              "    <path d=\"M0 0h24v24H0V0z\" fill=\"none\"/>\n",
              "    <path d=\"M18.56 5.44l.94 2.06.94-2.06 2.06-.94-2.06-.94-.94-2.06-.94 2.06-2.06.94zm-11 1L8.5 8.5l.94-2.06 2.06-.94-2.06-.94L8.5 2.5l-.94 2.06-2.06.94zm10 10l.94 2.06.94-2.06 2.06-.94-2.06-.94-.94-2.06-.94 2.06-2.06.94z\"/><path d=\"M17.41 7.96l-1.37-1.37c-.4-.4-.92-.59-1.43-.59-.52 0-1.04.2-1.43.59L10.3 9.45l-7.72 7.72c-.78.78-.78 2.05 0 2.83L4 21.41c.39.39.9.59 1.41.59.51 0 1.02-.2 1.41-.59l7.78-7.78 2.81-2.81c.8-.78.8-2.07 0-2.86zM5.41 20L4 18.59l7.72-7.72 1.47 1.35L5.41 20z\"/>\n",
              "  </svg>\n",
              "      </button>\n",
              "      \n",
              "  <style>\n",
              "    .colab-df-container {\n",
              "      display:flex;\n",
              "      flex-wrap:wrap;\n",
              "      gap: 12px;\n",
              "    }\n",
              "\n",
              "    .colab-df-convert {\n",
              "      background-color: #E8F0FE;\n",
              "      border: none;\n",
              "      border-radius: 50%;\n",
              "      cursor: pointer;\n",
              "      display: none;\n",
              "      fill: #1967D2;\n",
              "      height: 32px;\n",
              "      padding: 0 0 0 0;\n",
              "      width: 32px;\n",
              "    }\n",
              "\n",
              "    .colab-df-convert:hover {\n",
              "      background-color: #E2EBFA;\n",
              "      box-shadow: 0px 1px 2px rgba(60, 64, 67, 0.3), 0px 1px 3px 1px rgba(60, 64, 67, 0.15);\n",
              "      fill: #174EA6;\n",
              "    }\n",
              "\n",
              "    [theme=dark] .colab-df-convert {\n",
              "      background-color: #3B4455;\n",
              "      fill: #D2E3FC;\n",
              "    }\n",
              "\n",
              "    [theme=dark] .colab-df-convert:hover {\n",
              "      background-color: #434B5C;\n",
              "      box-shadow: 0px 1px 3px 1px rgba(0, 0, 0, 0.15);\n",
              "      filter: drop-shadow(0px 1px 2px rgba(0, 0, 0, 0.3));\n",
              "      fill: #FFFFFF;\n",
              "    }\n",
              "  </style>\n",
              "\n",
              "      <script>\n",
              "        const buttonEl =\n",
              "          document.querySelector('#df-26c641d4-881b-4c5f-ae1c-5320572ea9b4 button.colab-df-convert');\n",
              "        buttonEl.style.display =\n",
              "          google.colab.kernel.accessAllowed ? 'block' : 'none';\n",
              "\n",
              "        async function convertToInteractive(key) {\n",
              "          const element = document.querySelector('#df-26c641d4-881b-4c5f-ae1c-5320572ea9b4');\n",
              "          const dataTable =\n",
              "            await google.colab.kernel.invokeFunction('convertToInteractive',\n",
              "                                                     [key], {});\n",
              "          if (!dataTable) return;\n",
              "\n",
              "          const docLinkHtml = 'Like what you see? Visit the ' +\n",
              "            '<a target=\"_blank\" href=https://colab.research.google.com/notebooks/data_table.ipynb>data table notebook</a>'\n",
              "            + ' to learn more about interactive tables.';\n",
              "          element.innerHTML = '';\n",
              "          dataTable['output_type'] = 'display_data';\n",
              "          await google.colab.output.renderOutput(dataTable, element);\n",
              "          const docLink = document.createElement('div');\n",
              "          docLink.innerHTML = docLinkHtml;\n",
              "          element.appendChild(docLink);\n",
              "        }\n",
              "      </script>\n",
              "    </div>\n",
              "  </div>\n",
              "  "
            ]
          },
          "metadata": {},
          "execution_count": 2
        }
      ]
    },
    {
      "cell_type": "code",
      "source": [
        "# Create an empty list\n",
        "filter_arr = []\n",
        "# go through each element in arr\n",
        "for i in range(0, 30):\n",
        "  if 1 == df.iloc[i,7]:\n",
        "    filter_arr.append(True)\n",
        "  else:\n",
        "    filter_arr.append(False)"
      ],
      "metadata": {
        "id": "i929J05bMWD3"
      },
      "execution_count": 8,
      "outputs": []
    },
    {
      "cell_type": "code",
      "source": [
        "vas_princip = df.iloc[:,0][filter_arr].to_numpy()"
      ],
      "metadata": {
        "id": "eP3LfL97O3MZ"
      },
      "execution_count": 17,
      "outputs": []
    },
    {
      "cell_type": "code",
      "source": [
        "filter_arr_1 = np.invert(filter_arr)"
      ],
      "metadata": {
        "id": "RSqwQv0HQ_WA"
      },
      "execution_count": 26,
      "outputs": []
    },
    {
      "cell_type": "code",
      "source": [
        "filter_arr_1"
      ],
      "metadata": {
        "colab": {
          "base_uri": "https://localhost:8080/"
        },
        "id": "kC0zhF1sRiUJ",
        "outputId": "f0b5e6de-dc85-4e5d-c0ca-8a7b011f4d10"
      },
      "execution_count": 27,
      "outputs": [
        {
          "output_type": "execute_result",
          "data": {
            "text/plain": [
              "array([False, False,  True, False,  True, False, False, False, False,\n",
              "        True, False, False, False, False, False, False, False, False,\n",
              "       False, False, False, False, False, False, False, False, False,\n",
              "       False, False, False])"
            ]
          },
          "metadata": {},
          "execution_count": 27
        }
      ]
    },
    {
      "cell_type": "code",
      "source": [
        "vas_neprincip = df.iloc[:,0][filter_arr_1].to_numpy()"
      ],
      "metadata": {
        "id": "wejwOtxMPIyJ"
      },
      "execution_count": 28,
      "outputs": []
    },
    {
      "cell_type": "code",
      "source": [
        "np.mean(vas_princip)"
      ],
      "metadata": {
        "colab": {
          "base_uri": "https://localhost:8080/"
        },
        "id": "cfJ5W5C2SVa6",
        "outputId": "fc2495a2-fe5d-4d04-cb0d-826461579b9e"
      },
      "execution_count": 30,
      "outputs": [
        {
          "output_type": "execute_result",
          "data": {
            "text/plain": [
              "4.214814814814814"
            ]
          },
          "metadata": {},
          "execution_count": 30
        }
      ]
    },
    {
      "cell_type": "markdown",
      "source": [
        "Prosjek za vještinu aktivnog slušanja za osobe koje su odabrale principijelno pregovaranje je 4.21481."
      ],
      "metadata": {
        "id": "FyCgRXW9TIuV"
      }
    },
    {
      "cell_type": "code",
      "source": [
        "np.mean(vas_neprincip)"
      ],
      "metadata": {
        "colab": {
          "base_uri": "https://localhost:8080/"
        },
        "id": "2uhUCgc7TUuC",
        "outputId": "6b293f20-9c08-4a0d-c880-7814ef9bd80d"
      },
      "execution_count": 31,
      "outputs": [
        {
          "output_type": "execute_result",
          "data": {
            "text/plain": [
              "4.266666666666667"
            ]
          },
          "metadata": {},
          "execution_count": 31
        }
      ]
    },
    {
      "cell_type": "markdown",
      "source": [
        "Prosjek za vještinu aktivnog slušanja za osobe koje su odabrale druge strategije je 4.26667. \n",
        "\n",
        "Dakle nema značajne razlike u prosjecima populacija za tu vještinu."
      ],
      "metadata": {
        "id": "-9F8bE0RTZ8B"
      }
    },
    {
      "cell_type": "code",
      "source": [
        "vu_princip = df.iloc[:,1][filter_arr].to_numpy()"
      ],
      "metadata": {
        "id": "fDlju4tsT-dO"
      },
      "execution_count": 32,
      "outputs": []
    },
    {
      "cell_type": "code",
      "source": [
        "vu_neprincip = df.iloc[:,1][filter_arr_1].to_numpy()"
      ],
      "metadata": {
        "id": "gorYfG9xT70R"
      },
      "execution_count": 33,
      "outputs": []
    },
    {
      "cell_type": "code",
      "source": [
        "np.mean(vu_princip)"
      ],
      "metadata": {
        "colab": {
          "base_uri": "https://localhost:8080/"
        },
        "id": "tbsx9Qm9T73I",
        "outputId": "10531f52-b60b-4a8a-da3f-635340124e9a"
      },
      "execution_count": 37,
      "outputs": [
        {
          "output_type": "execute_result",
          "data": {
            "text/plain": [
              "4.148148148148148"
            ]
          },
          "metadata": {},
          "execution_count": 37
        }
      ]
    },
    {
      "cell_type": "markdown",
      "source": [
        "Prosjek za vjestinu umrezavanja za osobe koje su izabrale principijelno pregovaranje je 4.148148.."
      ],
      "metadata": {
        "id": "h6WALWUmfTxv"
      }
    },
    {
      "cell_type": "code",
      "source": [
        "np.mean(vu_neprincip)"
      ],
      "metadata": {
        "colab": {
          "base_uri": "https://localhost:8080/"
        },
        "id": "Z0H3VBz6fT8q",
        "outputId": "a90c52a5-691e-4d98-8253-35081f62dc89"
      },
      "execution_count": 38,
      "outputs": [
        {
          "output_type": "execute_result",
          "data": {
            "text/plain": [
              "4.333333333333333"
            ]
          },
          "metadata": {},
          "execution_count": 38
        }
      ]
    },
    {
      "cell_type": "markdown",
      "source": [
        "Prosjek za vjestinu umrezavanja za osobe koje nisu izabrale principijelno pregovaranje je 4.33333....\n",
        "\n",
        "Nema neke ocite razlike izmedju prosjeka."
      ],
      "metadata": {
        "id": "JAgsNNsJfUFb"
      }
    },
    {
      "cell_type": "code",
      "source": [
        "vud_princip = df.iloc[:,2][filter_arr].to_numpy()\n",
        "vud_neprincip = df.iloc[:,2][filter_arr_1].to_numpy()"
      ],
      "metadata": {
        "id": "EtEsisr_f4Zt"
      },
      "execution_count": 39,
      "outputs": []
    },
    {
      "cell_type": "code",
      "source": [
        "np.mean(vud_princip)"
      ],
      "metadata": {
        "colab": {
          "base_uri": "https://localhost:8080/"
        },
        "id": "-ioLVYozf4cs",
        "outputId": "0733dcec-7f67-4ea2-a6a3-fd04baa62535"
      },
      "execution_count": 40,
      "outputs": [
        {
          "output_type": "execute_result",
          "data": {
            "text/plain": [
              "4.288888888888889"
            ]
          },
          "metadata": {},
          "execution_count": 40
        }
      ]
    },
    {
      "cell_type": "markdown",
      "source": [
        "Prosjek za vjestinu utjecaja na druge za osobe koje su birale principijelno pregovaranje je 4.288888..."
      ],
      "metadata": {
        "id": "CEF_BdaUgEe0"
      }
    },
    {
      "cell_type": "code",
      "source": [
        "np.mean(vud_neprincip)"
      ],
      "metadata": {
        "colab": {
          "base_uri": "https://localhost:8080/"
        },
        "id": "_5l1B80zMQ9s",
        "outputId": "118843f8-678e-43e0-f15b-2270647dfbd8"
      },
      "execution_count": 41,
      "outputs": [
        {
          "output_type": "execute_result",
          "data": {
            "text/plain": [
              "4.3999999999999995"
            ]
          },
          "metadata": {},
          "execution_count": 41
        }
      ]
    },
    {
      "cell_type": "markdown",
      "source": [
        "Prosjek za vjestinu utjecaja na druge za osobe koje nisu birale principijelno pregovaranje je 4.399999...\n",
        "\n",
        "Nema neke znacajne razlike."
      ],
      "metadata": {
        "id": "joqx0LmZgOT1"
      }
    },
    {
      "cell_type": "markdown",
      "source": [
        "## Whitney Mann U Test"
      ],
      "metadata": {
        "id": "9-D1USq2hql4"
      }
    },
    {
      "cell_type": "markdown",
      "source": [
        "Whitney Mann U test ima nul-hipotezu H0: distribucija jedne populacije je jednaka distribuciji druge populacije.\n",
        "\n",
        "Prvo ćemo usporediti distribuciju vjestine aktivnog slusanja izmedju osoba koje su odabrale principijelno pregovaranje i onih koji nisu."
      ],
      "metadata": {
        "id": "u4zIHc7-g-WL"
      }
    },
    {
      "cell_type": "code",
      "source": [
        "# Uzorak osoba za vjestinu aktivnog slusanja koje su odabrale principijelno pregovaranje\n",
        "vas_princip"
      ],
      "metadata": {
        "colab": {
          "base_uri": "https://localhost:8080/"
        },
        "id": "jm7QFPuOgxCh",
        "outputId": "0e01854d-f4d7-4d3f-c090-c9ee89ac3e8f"
      },
      "execution_count": 42,
      "outputs": [
        {
          "output_type": "execute_result",
          "data": {
            "text/plain": [
              "array([4.6, 4.2, 4.8, 4. , 3.4, 4.4, 3.6, 4.6, 4. , 5. , 3.6, 3.8, 4. ,\n",
              "       3.6, 4.4, 4.6, 4.4, 4.8, 4.4, 4.4, 3.6, 4.4, 4.2, 4. , 4. , 4.6,\n",
              "       4.4])"
            ]
          },
          "metadata": {},
          "execution_count": 42
        }
      ]
    },
    {
      "cell_type": "code",
      "source": [
        "# Uzorak osoba za vjestinu aktivnog slusanja koje nisu odabrale principijelno pregovaranje\n",
        "vas_neprincip"
      ],
      "metadata": {
        "colab": {
          "base_uri": "https://localhost:8080/"
        },
        "id": "fosF1xYhhlYG",
        "outputId": "6a6a54ec-6302-40de-ab27-5589c2b76cf5"
      },
      "execution_count": 43,
      "outputs": [
        {
          "output_type": "execute_result",
          "data": {
            "text/plain": [
              "array([4.8, 4. , 4. ])"
            ]
          },
          "metadata": {},
          "execution_count": 43
        }
      ]
    },
    {
      "cell_type": "code",
      "source": [
        "import scipy\n",
        "scipy.stats.mannwhitneyu(vas_princip, vas_neprincip)"
      ],
      "metadata": {
        "colab": {
          "base_uri": "https://localhost:8080/"
        },
        "id": "eDQDthNChuh1",
        "outputId": "eca32161-34d2-4c9f-b72b-f5ba8bd9cf62"
      },
      "execution_count": 44,
      "outputs": [
        {
          "output_type": "execute_result",
          "data": {
            "text/plain": [
              "MannwhitneyuResult(statistic=39.0, pvalue=0.9440278624662525)"
            ]
          },
          "metadata": {},
          "execution_count": 44
        }
      ]
    },
    {
      "cell_type": "markdown",
      "source": [
        "Jako velika p-vrijednost (cca 94%), dakle ne odbacujemo H0 hipotezu, odnosno ne odbacujemo hipotezu koja kaze da su distribucije tih dviju populacija jednake."
      ],
      "metadata": {
        "id": "q0BOKLwAiJYO"
      }
    },
    {
      "cell_type": "markdown",
      "source": [
        "Sada na isti nacin ispitamo za vjestinu umrezavanja"
      ],
      "metadata": {
        "id": "RqNJjvv2ieJH"
      }
    },
    {
      "cell_type": "markdown",
      "source": [
        "H0: vjestine umrezavanja za one ljude koji su birali principijelno pregovaranje imaju jednaku distribuciju kao i vjestine umrezavanja onih ljudi koji su birali druge strategije"
      ],
      "metadata": {
        "id": "yp7r0u6yivP4"
      }
    },
    {
      "cell_type": "code",
      "source": [
        "import scipy\n",
        "scipy.stats.mannwhitneyu(vu_princip, vu_neprincip)"
      ],
      "metadata": {
        "colab": {
          "base_uri": "https://localhost:8080/"
        },
        "id": "YsHawHVriUQE",
        "outputId": "d6101722-00c6-46df-cc0a-f25ae35ba008"
      },
      "execution_count": 45,
      "outputs": [
        {
          "output_type": "execute_result",
          "data": {
            "text/plain": [
              "MannwhitneyuResult(statistic=34.5, pvalue=0.7008867365309154)"
            ]
          },
          "metadata": {},
          "execution_count": 45
        }
      ]
    },
    {
      "cell_type": "markdown",
      "source": [
        "Jako velika p-vrijednost (cca 70%), dakle ne odbacujemo H0 hipotezu."
      ],
      "metadata": {
        "id": "VtDpkmRHiU_w"
      }
    },
    {
      "cell_type": "markdown",
      "source": [
        "I na isti nacin ispitamo i za trecu vjestinu."
      ],
      "metadata": {
        "id": "xnO4CGwni9ue"
      }
    },
    {
      "cell_type": "code",
      "source": [
        "import scipy\n",
        "scipy.stats.mannwhitneyu(vud_princip, vud_neprincip)"
      ],
      "metadata": {
        "colab": {
          "base_uri": "https://localhost:8080/"
        },
        "id": "9M-mAcq0iUVB",
        "outputId": "0f0824fb-f0ec-4340-d0dc-af7ceabccc0c"
      },
      "execution_count": 46,
      "outputs": [
        {
          "output_type": "execute_result",
          "data": {
            "text/plain": [
              "MannwhitneyuResult(statistic=35.5, pvalue=0.7527350317508261)"
            ]
          },
          "metadata": {},
          "execution_count": 46
        }
      ]
    },
    {
      "cell_type": "markdown",
      "source": [
        "Opet velika p-vrijednost (cca 75%), dakle ne odbacujemo H0."
      ],
      "metadata": {
        "id": "d4uqhZ8kjCOG"
      }
    }
  ]
}