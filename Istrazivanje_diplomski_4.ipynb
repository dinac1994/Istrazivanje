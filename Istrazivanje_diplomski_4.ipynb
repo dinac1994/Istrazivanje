{
  "nbformat": 4,
  "nbformat_minor": 0,
  "metadata": {
    "colab": {
      "provenance": [],
      "collapsed_sections": []
    },
    "kernelspec": {
      "name": "python3",
      "display_name": "Python 3"
    },
    "language_info": {
      "name": "python"
    }
  },
  "cells": [
    {
      "cell_type": "code",
      "execution_count": 1,
      "metadata": {
        "id": "C8BYKhJdkj0L"
      },
      "outputs": [],
      "source": [
        "import pandas as pd\n",
        "import numpy as np\n",
        "import tensorflow as tf\n",
        "import seaborn as sns \n",
        "import matplotlib.pyplot as plt\n",
        "%matplotlib inline \n",
        "sns.set(color_codes=True)"
      ]
    },
    {
      "cell_type": "markdown",
      "source": [
        "Tablica koja prikazuje prosječni score svake osobe za svaku vještinu i koju strategiju je ta osoba odabrala."
      ],
      "metadata": {
        "id": "f6IAylNck_yC"
      }
    },
    {
      "cell_type": "code",
      "source": [
        "df = pd.read_excel(\"SEVER_2.xlsx\")\n",
        "df.iloc[:,0] = df.iloc[:,0]/10\n",
        "df.iloc[:,1] = df.iloc[:,1]/10\n",
        "df.iloc[:,2] = df.iloc[:,2]/10\n",
        "df.head(5)"
      ],
      "metadata": {
        "colab": {
          "base_uri": "https://localhost:8080/",
          "height": 305
        },
        "id": "5Y_dw16elD8V",
        "outputId": "550294f7-e41c-4478-99b3-7b8976a0e5e4"
      },
      "execution_count": 2,
      "outputs": [
        {
          "output_type": "execute_result",
          "data": {
            "text/plain": [
              "   Vjestina aktivnog slusanja  Vjestina umrezavanja  \\\n",
              "0                         4.6                   4.0   \n",
              "1                         4.2                   3.6   \n",
              "2                         4.8                   4.2   \n",
              "3                         4.8                   4.8   \n",
              "4                         4.0                   5.0   \n",
              "\n",
              "   Vjestina utjecaja na druge  Tvrdo pregovaranje  Pozicijsko pregovaranje  \\\n",
              "0                         3.6                   0                        0   \n",
              "1                         5.0                   0                        0   \n",
              "2                         4.4                   0                        1   \n",
              "3                         4.2                   0                        0   \n",
              "4                         4.6                   1                        0   \n",
              "\n",
              "   Meko pregovaranje  Fiktivno pregovaranje  Principijelno pregovaranje  Spol  \n",
              "0                  0                      0                           1     1  \n",
              "1                  0                      0                           1     1  \n",
              "2                  0                      0                           0     1  \n",
              "3                  0                      0                           1     1  \n",
              "4                  0                      0                           0     1  "
            ],
            "text/html": [
              "\n",
              "  <div id=\"df-f7c199c4-08df-44c9-9e34-4928c0736aaf\">\n",
              "    <div class=\"colab-df-container\">\n",
              "      <div>\n",
              "<style scoped>\n",
              "    .dataframe tbody tr th:only-of-type {\n",
              "        vertical-align: middle;\n",
              "    }\n",
              "\n",
              "    .dataframe tbody tr th {\n",
              "        vertical-align: top;\n",
              "    }\n",
              "\n",
              "    .dataframe thead th {\n",
              "        text-align: right;\n",
              "    }\n",
              "</style>\n",
              "<table border=\"1\" class=\"dataframe\">\n",
              "  <thead>\n",
              "    <tr style=\"text-align: right;\">\n",
              "      <th></th>\n",
              "      <th>Vjestina aktivnog slusanja</th>\n",
              "      <th>Vjestina umrezavanja</th>\n",
              "      <th>Vjestina utjecaja na druge</th>\n",
              "      <th>Tvrdo pregovaranje</th>\n",
              "      <th>Pozicijsko pregovaranje</th>\n",
              "      <th>Meko pregovaranje</th>\n",
              "      <th>Fiktivno pregovaranje</th>\n",
              "      <th>Principijelno pregovaranje</th>\n",
              "      <th>Spol</th>\n",
              "    </tr>\n",
              "  </thead>\n",
              "  <tbody>\n",
              "    <tr>\n",
              "      <th>0</th>\n",
              "      <td>4.6</td>\n",
              "      <td>4.0</td>\n",
              "      <td>3.6</td>\n",
              "      <td>0</td>\n",
              "      <td>0</td>\n",
              "      <td>0</td>\n",
              "      <td>0</td>\n",
              "      <td>1</td>\n",
              "      <td>1</td>\n",
              "    </tr>\n",
              "    <tr>\n",
              "      <th>1</th>\n",
              "      <td>4.2</td>\n",
              "      <td>3.6</td>\n",
              "      <td>5.0</td>\n",
              "      <td>0</td>\n",
              "      <td>0</td>\n",
              "      <td>0</td>\n",
              "      <td>0</td>\n",
              "      <td>1</td>\n",
              "      <td>1</td>\n",
              "    </tr>\n",
              "    <tr>\n",
              "      <th>2</th>\n",
              "      <td>4.8</td>\n",
              "      <td>4.2</td>\n",
              "      <td>4.4</td>\n",
              "      <td>0</td>\n",
              "      <td>1</td>\n",
              "      <td>0</td>\n",
              "      <td>0</td>\n",
              "      <td>0</td>\n",
              "      <td>1</td>\n",
              "    </tr>\n",
              "    <tr>\n",
              "      <th>3</th>\n",
              "      <td>4.8</td>\n",
              "      <td>4.8</td>\n",
              "      <td>4.2</td>\n",
              "      <td>0</td>\n",
              "      <td>0</td>\n",
              "      <td>0</td>\n",
              "      <td>0</td>\n",
              "      <td>1</td>\n",
              "      <td>1</td>\n",
              "    </tr>\n",
              "    <tr>\n",
              "      <th>4</th>\n",
              "      <td>4.0</td>\n",
              "      <td>5.0</td>\n",
              "      <td>4.6</td>\n",
              "      <td>1</td>\n",
              "      <td>0</td>\n",
              "      <td>0</td>\n",
              "      <td>0</td>\n",
              "      <td>0</td>\n",
              "      <td>1</td>\n",
              "    </tr>\n",
              "  </tbody>\n",
              "</table>\n",
              "</div>\n",
              "      <button class=\"colab-df-convert\" onclick=\"convertToInteractive('df-f7c199c4-08df-44c9-9e34-4928c0736aaf')\"\n",
              "              title=\"Convert this dataframe to an interactive table.\"\n",
              "              style=\"display:none;\">\n",
              "        \n",
              "  <svg xmlns=\"http://www.w3.org/2000/svg\" height=\"24px\"viewBox=\"0 0 24 24\"\n",
              "       width=\"24px\">\n",
              "    <path d=\"M0 0h24v24H0V0z\" fill=\"none\"/>\n",
              "    <path d=\"M18.56 5.44l.94 2.06.94-2.06 2.06-.94-2.06-.94-.94-2.06-.94 2.06-2.06.94zm-11 1L8.5 8.5l.94-2.06 2.06-.94-2.06-.94L8.5 2.5l-.94 2.06-2.06.94zm10 10l.94 2.06.94-2.06 2.06-.94-2.06-.94-.94-2.06-.94 2.06-2.06.94z\"/><path d=\"M17.41 7.96l-1.37-1.37c-.4-.4-.92-.59-1.43-.59-.52 0-1.04.2-1.43.59L10.3 9.45l-7.72 7.72c-.78.78-.78 2.05 0 2.83L4 21.41c.39.39.9.59 1.41.59.51 0 1.02-.2 1.41-.59l7.78-7.78 2.81-2.81c.8-.78.8-2.07 0-2.86zM5.41 20L4 18.59l7.72-7.72 1.47 1.35L5.41 20z\"/>\n",
              "  </svg>\n",
              "      </button>\n",
              "      \n",
              "  <style>\n",
              "    .colab-df-container {\n",
              "      display:flex;\n",
              "      flex-wrap:wrap;\n",
              "      gap: 12px;\n",
              "    }\n",
              "\n",
              "    .colab-df-convert {\n",
              "      background-color: #E8F0FE;\n",
              "      border: none;\n",
              "      border-radius: 50%;\n",
              "      cursor: pointer;\n",
              "      display: none;\n",
              "      fill: #1967D2;\n",
              "      height: 32px;\n",
              "      padding: 0 0 0 0;\n",
              "      width: 32px;\n",
              "    }\n",
              "\n",
              "    .colab-df-convert:hover {\n",
              "      background-color: #E2EBFA;\n",
              "      box-shadow: 0px 1px 2px rgba(60, 64, 67, 0.3), 0px 1px 3px 1px rgba(60, 64, 67, 0.15);\n",
              "      fill: #174EA6;\n",
              "    }\n",
              "\n",
              "    [theme=dark] .colab-df-convert {\n",
              "      background-color: #3B4455;\n",
              "      fill: #D2E3FC;\n",
              "    }\n",
              "\n",
              "    [theme=dark] .colab-df-convert:hover {\n",
              "      background-color: #434B5C;\n",
              "      box-shadow: 0px 1px 3px 1px rgba(0, 0, 0, 0.15);\n",
              "      filter: drop-shadow(0px 1px 2px rgba(0, 0, 0, 0.3));\n",
              "      fill: #FFFFFF;\n",
              "    }\n",
              "  </style>\n",
              "\n",
              "      <script>\n",
              "        const buttonEl =\n",
              "          document.querySelector('#df-f7c199c4-08df-44c9-9e34-4928c0736aaf button.colab-df-convert');\n",
              "        buttonEl.style.display =\n",
              "          google.colab.kernel.accessAllowed ? 'block' : 'none';\n",
              "\n",
              "        async function convertToInteractive(key) {\n",
              "          const element = document.querySelector('#df-f7c199c4-08df-44c9-9e34-4928c0736aaf');\n",
              "          const dataTable =\n",
              "            await google.colab.kernel.invokeFunction('convertToInteractive',\n",
              "                                                     [key], {});\n",
              "          if (!dataTable) return;\n",
              "\n",
              "          const docLinkHtml = 'Like what you see? Visit the ' +\n",
              "            '<a target=\"_blank\" href=https://colab.research.google.com/notebooks/data_table.ipynb>data table notebook</a>'\n",
              "            + ' to learn more about interactive tables.';\n",
              "          element.innerHTML = '';\n",
              "          dataTable['output_type'] = 'display_data';\n",
              "          await google.colab.output.renderOutput(dataTable, element);\n",
              "          const docLink = document.createElement('div');\n",
              "          docLink.innerHTML = docLinkHtml;\n",
              "          element.appendChild(docLink);\n",
              "        }\n",
              "      </script>\n",
              "    </div>\n",
              "  </div>\n",
              "  "
            ]
          },
          "metadata": {},
          "execution_count": 2
        }
      ]
    },
    {
      "cell_type": "code",
      "source": [
        "# Create an empty list\n",
        "filter_arr = []\n",
        "# go through each element in arr\n",
        "for i in range(0, 30):\n",
        "  if 1 == df.iloc[i,8]:\n",
        "    filter_arr.append(True)\n",
        "  else:\n",
        "    filter_arr.append(False)"
      ],
      "metadata": {
        "id": "i929J05bMWD3"
      },
      "execution_count": 3,
      "outputs": []
    },
    {
      "cell_type": "code",
      "source": [
        "vas_zene = df.iloc[:,0][filter_arr].to_numpy()"
      ],
      "metadata": {
        "id": "eP3LfL97O3MZ"
      },
      "execution_count": 4,
      "outputs": []
    },
    {
      "cell_type": "code",
      "source": [
        "vas_zene"
      ],
      "metadata": {
        "colab": {
          "base_uri": "https://localhost:8080/"
        },
        "id": "foLCWuGXTig7",
        "outputId": "9c1aa5b3-f05e-45e8-d2f6-6bac26d91438"
      },
      "execution_count": 5,
      "outputs": [
        {
          "output_type": "execute_result",
          "data": {
            "text/plain": [
              "array([4.6, 4.2, 4.8, 4.8, 4. , 4. , 4.4, 4. , 4. , 3.6, 3.6, 4.4, 4.8,\n",
              "       4.4, 4. , 4.4])"
            ]
          },
          "metadata": {},
          "execution_count": 5
        }
      ]
    },
    {
      "cell_type": "code",
      "source": [
        "filter_arr_1 = np.invert(filter_arr)"
      ],
      "metadata": {
        "id": "RSqwQv0HQ_WA"
      },
      "execution_count": 6,
      "outputs": []
    },
    {
      "cell_type": "code",
      "source": [
        "filter_arr_1"
      ],
      "metadata": {
        "colab": {
          "base_uri": "https://localhost:8080/"
        },
        "id": "kC0zhF1sRiUJ",
        "outputId": "628e825f-b045-49ec-994f-87c53552ce0a"
      },
      "execution_count": 7,
      "outputs": [
        {
          "output_type": "execute_result",
          "data": {
            "text/plain": [
              "array([False, False, False, False, False, False,  True, False,  True,\n",
              "       False,  True, False,  True, False,  True,  True, False, False,\n",
              "        True,  True, False,  True,  True,  True, False,  True, False,\n",
              "        True,  True, False])"
            ]
          },
          "metadata": {},
          "execution_count": 7
        }
      ]
    },
    {
      "cell_type": "code",
      "source": [
        "vas_muskarci = df.iloc[:,0][filter_arr_1].to_numpy()"
      ],
      "metadata": {
        "id": "wejwOtxMPIyJ"
      },
      "execution_count": 8,
      "outputs": []
    },
    {
      "cell_type": "code",
      "source": [
        "np.mean(vas_zene)"
      ],
      "metadata": {
        "colab": {
          "base_uri": "https://localhost:8080/"
        },
        "id": "cfJ5W5C2SVa6",
        "outputId": "06819a39-2eda-4c29-c66a-7b05cc2a1ef7"
      },
      "execution_count": 9,
      "outputs": [
        {
          "output_type": "execute_result",
          "data": {
            "text/plain": [
              "4.25"
            ]
          },
          "metadata": {},
          "execution_count": 9
        }
      ]
    },
    {
      "cell_type": "markdown",
      "source": [
        "Prosjek za vještinu aktivnog slušanja za žene je 4.25."
      ],
      "metadata": {
        "id": "FyCgRXW9TIuV"
      }
    },
    {
      "cell_type": "code",
      "source": [
        "np.mean(vas_muskarci)"
      ],
      "metadata": {
        "colab": {
          "base_uri": "https://localhost:8080/"
        },
        "id": "2uhUCgc7TUuC",
        "outputId": "7c3f0a26-7125-496b-a522-6ab1de0b708f"
      },
      "execution_count": 10,
      "outputs": [
        {
          "output_type": "execute_result",
          "data": {
            "text/plain": [
              "4.185714285714286"
            ]
          },
          "metadata": {},
          "execution_count": 10
        }
      ]
    },
    {
      "cell_type": "markdown",
      "source": [
        "Prosjek za vještinu aktivnog slušanja za osobe koje su odabrale druge strategije je 4.1857143. \n",
        "\n",
        "Muškarci imaju nešto malo manju vještinu aktivnog slušanja."
      ],
      "metadata": {
        "id": "-9F8bE0RTZ8B"
      }
    },
    {
      "cell_type": "code",
      "source": [
        "vu_zene = df.iloc[:,1][filter_arr].to_numpy()"
      ],
      "metadata": {
        "id": "fDlju4tsT-dO"
      },
      "execution_count": 11,
      "outputs": []
    },
    {
      "cell_type": "code",
      "source": [
        "vu_muskarci = df.iloc[:,1][filter_arr_1].to_numpy()"
      ],
      "metadata": {
        "id": "gorYfG9xT70R"
      },
      "execution_count": 12,
      "outputs": []
    },
    {
      "cell_type": "code",
      "source": [
        "np.mean(vu_zene)"
      ],
      "metadata": {
        "colab": {
          "base_uri": "https://localhost:8080/"
        },
        "id": "tbsx9Qm9T73I",
        "outputId": "46352c5b-68e7-4a16-9f14-703ddf1af92e"
      },
      "execution_count": 13,
      "outputs": [
        {
          "output_type": "execute_result",
          "data": {
            "text/plain": [
              "4.2250000000000005"
            ]
          },
          "metadata": {},
          "execution_count": 13
        }
      ]
    },
    {
      "cell_type": "markdown",
      "source": [
        "Prosjek za vjestinu umrezavanja za zene je 4.225"
      ],
      "metadata": {
        "id": "h6WALWUmfTxv"
      }
    },
    {
      "cell_type": "code",
      "source": [
        "np.mean(vu_muskarci)"
      ],
      "metadata": {
        "colab": {
          "base_uri": "https://localhost:8080/"
        },
        "id": "Z0H3VBz6fT8q",
        "outputId": "cedbe88f-c95d-4b6b-f56a-499fa59d628c"
      },
      "execution_count": 14,
      "outputs": [
        {
          "output_type": "execute_result",
          "data": {
            "text/plain": [
              "4.1000000000000005"
            ]
          },
          "metadata": {},
          "execution_count": 14
        }
      ]
    },
    {
      "cell_type": "markdown",
      "source": [
        "Prosjek za vjestinu umrezavanja za muskarce je 4.1.\n",
        "\n",
        "Dakle, muskarci imaju malo manje razvijenu vjestinu umrezavanja."
      ],
      "metadata": {
        "id": "JAgsNNsJfUFb"
      }
    },
    {
      "cell_type": "code",
      "source": [
        "vud_zene = df.iloc[:,2][filter_arr].to_numpy()\n",
        "vud_muskarci = df.iloc[:,2][filter_arr_1].to_numpy()"
      ],
      "metadata": {
        "id": "EtEsisr_f4Zt"
      },
      "execution_count": 15,
      "outputs": []
    },
    {
      "cell_type": "code",
      "source": [
        "np.mean(vud_zene)"
      ],
      "metadata": {
        "colab": {
          "base_uri": "https://localhost:8080/"
        },
        "id": "-ioLVYozf4cs",
        "outputId": "e0fccdbe-b20d-4b6c-945a-dc0f49be424c"
      },
      "execution_count": 16,
      "outputs": [
        {
          "output_type": "execute_result",
          "data": {
            "text/plain": [
              "4.225"
            ]
          },
          "metadata": {},
          "execution_count": 16
        }
      ]
    },
    {
      "cell_type": "markdown",
      "source": [
        "Prosjek za vjestinu utjecaja na druge za zene je 4.225."
      ],
      "metadata": {
        "id": "CEF_BdaUgEe0"
      }
    },
    {
      "cell_type": "code",
      "source": [
        "np.mean(vud_muskarci)"
      ],
      "metadata": {
        "colab": {
          "base_uri": "https://localhost:8080/"
        },
        "id": "_5l1B80zMQ9s",
        "outputId": "a2d49ef6-7c07-4a66-985c-3c99a5ba4467"
      },
      "execution_count": 17,
      "outputs": [
        {
          "output_type": "execute_result",
          "data": {
            "text/plain": [
              "4.385714285714286"
            ]
          },
          "metadata": {},
          "execution_count": 17
        }
      ]
    },
    {
      "cell_type": "markdown",
      "source": [
        "Prosjek za vjestinu utjecaja na druge za muskarce je 4.3857...\n",
        "\n",
        "Muskarci imaju malo razvijeniju vjestinu utjecaja na druge osobe."
      ],
      "metadata": {
        "id": "joqx0LmZgOT1"
      }
    },
    {
      "cell_type": "markdown",
      "source": [
        "## Whitney Mann U Test"
      ],
      "metadata": {
        "id": "9-D1USq2hql4"
      }
    },
    {
      "cell_type": "markdown",
      "source": [
        "Whitney Mann U test ima nul-hipotezu H0: distribucija jedne populacije je jednaka distribuciji druge populacije.\n",
        "\n",
        "Prvo ćemo usporediti distribuciju vjestine aktivnog slusanja izmedju zena i muskaraca."
      ],
      "metadata": {
        "id": "u4zIHc7-g-WL"
      }
    },
    {
      "cell_type": "code",
      "source": [
        "# Uzorak osoba za zene\n",
        "vas_zene"
      ],
      "metadata": {
        "colab": {
          "base_uri": "https://localhost:8080/"
        },
        "id": "jm7QFPuOgxCh",
        "outputId": "6824b4ac-c65a-4491-84e8-8d193af9e816"
      },
      "execution_count": 18,
      "outputs": [
        {
          "output_type": "execute_result",
          "data": {
            "text/plain": [
              "array([4.6, 4.2, 4.8, 4.8, 4. , 4. , 4.4, 4. , 4. , 3.6, 3.6, 4.4, 4.8,\n",
              "       4.4, 4. , 4.4])"
            ]
          },
          "metadata": {},
          "execution_count": 18
        }
      ]
    },
    {
      "cell_type": "code",
      "source": [
        "# Uzorak za muskarce\n",
        "vas_muskarci"
      ],
      "metadata": {
        "colab": {
          "base_uri": "https://localhost:8080/"
        },
        "id": "fosF1xYhhlYG",
        "outputId": "b5b5b13a-9ddd-42a9-c64e-2fde2a2c110d"
      },
      "execution_count": 19,
      "outputs": [
        {
          "output_type": "execute_result",
          "data": {
            "text/plain": [
              "array([3.4, 3.6, 4.6, 5. , 3.8, 4. , 4.6, 4.4, 4.4, 4.4, 3.6, 4.2, 4. ,\n",
              "       4.6])"
            ]
          },
          "metadata": {},
          "execution_count": 19
        }
      ]
    },
    {
      "cell_type": "code",
      "source": [
        "import scipy\n",
        "scipy.stats.mannwhitneyu(vas_zene, vas_muskarci)"
      ],
      "metadata": {
        "colab": {
          "base_uri": "https://localhost:8080/"
        },
        "id": "eDQDthNChuh1",
        "outputId": "11df3fe1-78bc-49a3-c8de-86e57d329043"
      },
      "execution_count": 20,
      "outputs": [
        {
          "output_type": "execute_result",
          "data": {
            "text/plain": [
              "MannwhitneyuResult(statistic=120.0, pvalue=0.7515154038124412)"
            ]
          },
          "metadata": {},
          "execution_count": 20
        }
      ]
    },
    {
      "cell_type": "markdown",
      "source": [
        "Jako velika p-vrijednost (cca 75%), dakle ne odbacujemo H0 hipotezu, odnosno ne odbacujemo hipotezu koja kaze da su distribucije tih dviju populacija jednake.\n",
        "\n",
        "Odnosno, ne odbacujemo hipotezu koja kaze da su vjestine aktivnog slusanja kod zena jednake kao i kod muskaraca."
      ],
      "metadata": {
        "id": "q0BOKLwAiJYO"
      }
    },
    {
      "cell_type": "markdown",
      "source": [
        "Sada na isti nacin ispitamo za vjestinu umrezavanja"
      ],
      "metadata": {
        "id": "RqNJjvv2ieJH"
      }
    },
    {
      "cell_type": "markdown",
      "source": [
        "H0: vjestine umrezavanja za zene imaju jednaku distribuciju kao i vjestine umrezavanja muskaraca"
      ],
      "metadata": {
        "id": "yp7r0u6yivP4"
      }
    },
    {
      "cell_type": "code",
      "source": [
        "import scipy\n",
        "scipy.stats.mannwhitneyu(vu_zene, vu_muskarci)"
      ],
      "metadata": {
        "colab": {
          "base_uri": "https://localhost:8080/"
        },
        "id": "YsHawHVriUQE",
        "outputId": "d38ac8eb-e43f-491f-ac1f-9b6ecd18e852"
      },
      "execution_count": 21,
      "outputs": [
        {
          "output_type": "execute_result",
          "data": {
            "text/plain": [
              "MannwhitneyuResult(statistic=124.0, pvalue=0.6291133696243867)"
            ]
          },
          "metadata": {},
          "execution_count": 21
        }
      ]
    },
    {
      "cell_type": "markdown",
      "source": [
        "Velika p-vrijednost (cca 62.9%), dakle ne odbacujemo H0 hipotezu."
      ],
      "metadata": {
        "id": "VtDpkmRHiU_w"
      }
    },
    {
      "cell_type": "markdown",
      "source": [
        "I na isti nacin ispitamo i za trecu vjestinu."
      ],
      "metadata": {
        "id": "xnO4CGwni9ue"
      }
    },
    {
      "cell_type": "code",
      "source": [
        "import scipy\n",
        "scipy.stats.mannwhitneyu(vud_zene, vud_muskarci)"
      ],
      "metadata": {
        "colab": {
          "base_uri": "https://localhost:8080/"
        },
        "id": "9M-mAcq0iUVB",
        "outputId": "2c824588-fcd2-4d65-c223-fe7bb910f1d0"
      },
      "execution_count": 22,
      "outputs": [
        {
          "output_type": "execute_result",
          "data": {
            "text/plain": [
              "MannwhitneyuResult(statistic=86.0, pvalue=0.28304350077716733)"
            ]
          },
          "metadata": {},
          "execution_count": 22
        }
      ]
    },
    {
      "cell_type": "markdown",
      "source": [
        "Velika p-vrijednost (cca 28.3%), dakle ne odbacujemo H0."
      ],
      "metadata": {
        "id": "d4uqhZ8kjCOG"
      }
    }
  ]
}